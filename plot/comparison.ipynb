{
 "cells": [
  {
   "cell_type": "markdown",
   "metadata": {},
   "source": [
    "# Plot Comparison Between Algorithms"
   ]
  },
  {
   "cell_type": "code",
   "execution_count": 52,
   "metadata": {},
   "outputs": [
    {
     "name": "stdout",
     "output_type": "stream",
     "text": [
      "The autoreload extension is already loaded. To reload it, use:\n",
      "  %reload_ext autoreload\n"
     ]
    }
   ],
   "source": [
    "import os\n",
    "import matplotlib.pyplot as plt\n",
    "import numpy as np\n",
    "\n",
    "%load_ext autoreload\n",
    "%autoreload 2"
   ]
  },
  {
   "cell_type": "markdown",
   "metadata": {},
   "source": [
    "We need to read the CSV files (from a function in another file) to get the reward at each timestep for each run of each algorithm. Only the `algorithms_to_plot` will be loaded."
   ]
  },
  {
   "cell_type": "code",
   "execution_count": 63,
   "metadata": {},
   "outputs": [
    {
     "name": "stdout",
     "output_type": "stream",
     "text": [
      "Data will be plotted for example,esarsa\n"
     ]
    }
   ],
   "source": [
    "algorithms_to_plot = ['esarsa', 'example']\n",
    "basepath = '../data/'\n",
    "\n",
    "data = {}\n",
    "from load import load_data\n",
    "for alg in os.listdir(basepath):\n",
    "    if alg in algorithms_to_plot:\n",
    "        data[str(alg)] = load_data(basepath+alg)\n",
    "\n",
    "print('Data will be plotted for', ','.join([k for k in data.keys()]))"
   ]
  },
  {
   "cell_type": "code",
   "execution_count": null,
   "metadata": {},
   "outputs": [],
   "source": [
    "'''\n",
    "Define figure and axes\n",
    "'''\n",
    "figure, axes = plt.subplots(figsize=(12,8));\n",
    "    \n",
    "# -----Split here-----\n",
    "\n",
    "\n",
    "'''\n",
    "Calculates the mean and median performance across multiple runs\n",
    "Calculates the 95% confidence interval\n",
    "Plots the mean and median performance with the 95% confidence interval in a shaded region\n",
    "'''\n",
    "from stats import getMeanAndCI95, getMedianBestWorstFinal\n",
    "\n",
    "for alg, returns_list_files in data.items():\n",
    "    mean_returns_list, min_CI95_returns_list, max_CI95_returns_list = getMeanAndCI95(returns_list_files)\n",
    "    \n",
    "    lenrun = len(mean_returns_list)\n",
    "    xaxis = np.array([i for i in range(1,lenrun+1)])\n",
    "    \n",
    "    axes.plot(xaxis, mean_returns_list, label=str(alg)+'-mean')\n",
    "    axes.fill_between(xaxis, min_CI95_returns_list, max_CI95_returns_list, alpha=0.25)\n",
    "    \n",
    "    # Calculates the median run based on final performance\n",
    "    median_returns_list, best_returns_list, worst_returns_list = getMedianBestWorstFinal(returns_list_files)\n",
    "    axes.plot(xaxis, median_returns_list, label=str(alg)+'-median', color='black')\n",
    "    axes.plot(xaxis, best_returns_list, label=str(alg)+'-best', color='black', linestyle ='--')\n",
    "    axes.plot(xaxis, worst_returns_list, label=str(alg)+'-worst', color='black', linestyle = ':')\n",
    "\n",
    "\n",
    "    \n",
    "# -----Split here-----\n",
    "\n",
    "\n",
    "'''\n",
    "Configuration settings of the plot\n",
    "'''\n",
    "axes.set_xlabel('Timesteps', size=15, labelpad=35)\n",
    "axes.set_ylabel('Return', size=15, rotation=0, labelpad=45)\n",
    "axes.legend(loc=0, fontsize=12)\n",
    "plt.yticks(fontsize=14)\n",
    "plt.xticks(fontsize=14)\n",
    "plt.tight_layout()\n",
    "plt.subplots_adjust(left=0.2, right = 0.9, bottom=0.2, top= 0.85, wspace=0.45, hspace = 0.5)\n",
    "\n",
    "\n",
    "# -----Split here-----\n",
    "\n",
    "\n",
    "'''\n",
    "Save and display the plot\n",
    "'''\n",
    "plt.savefig('esarsa-mean-median-best-worst.png',dpi=500)\n",
    "plt.show()"
   ]
  },
  {
   "cell_type": "code",
   "execution_count": null,
   "metadata": {},
   "outputs": [],
   "source": []
  }
 ],
 "metadata": {
  "kernelspec": {
   "display_name": "Python 3",
   "language": "python",
   "name": "python3"
  },
  "language_info": {
   "codemirror_mode": {
    "name": "ipython",
    "version": 3
   },
   "file_extension": ".py",
   "mimetype": "text/x-python",
   "name": "python",
   "nbconvert_exporter": "python",
   "pygments_lexer": "ipython3",
   "version": "3.7.4"
  }
 },
 "nbformat": 4,
 "nbformat_minor": 4
}
