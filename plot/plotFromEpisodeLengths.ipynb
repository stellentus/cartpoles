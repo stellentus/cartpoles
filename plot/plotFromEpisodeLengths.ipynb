{
 "cells": [
  {
   "cell_type": "markdown",
   "metadata": {},
   "source": [
    "# Plot Comparison Between Algorithms"
   ]
  },
  {
   "cell_type": "markdown",
   "metadata": {},
   "source": [
    "Expects the input data to contain CSV files containing episode lengths"
   ]
  },
  {
   "cell_type": "code",
   "execution_count": 38,
   "metadata": {},
   "outputs": [],
   "source": [
    "import os\n",
    "import numpy as np\n",
    "\n",
    "%reload_ext autoreload\n",
    "%autoreload 2"
   ]
  },
  {
   "cell_type": "markdown",
   "metadata": {},
   "source": [
    "We need to read the CSV files (from a function in another file) to get the reward at each timestep for each run of each algorithm. Only the `dataPath` will be loaded.\n",
    "\n",
    "`load_data` loads the CSV files containing episode lengths as a numpy array of Pandas DataFrames.\n",
    "\n",
    "`dataPath` contains the exact path of the directories containing the CSV files. This path is relative to the `data` directory. It assumes every element will be path for a different algorithm. It will overwrite if two paths are for different parameter settings of the same algorithm.\n",
    "\n",
    "Expects there to be more than 1 input CSV file."
   ]
  },
  {
   "cell_type": "code",
   "execution_count": 39,
   "metadata": {
    "scrolled": false
   },
   "outputs": [
    {
     "name": "stdout",
     "output_type": "stream",
     "text": [
      "Data will be stored for esarsa1, dqn4\n",
      "Loaded the episode lengths data from the csv files\n"
     ]
    }
   ],
   "source": [
    "#dataPath = ['esarsa/alpha-0.015625_driftProb--1,-1,-1,-1_driftScale-1000_enable-debug-0_epsilon-0.05_gamma-0.95_lambda-0.8_sensorLife-1,1,1,1_tiles-4_tilings-32',\n",
    "#            'dqn/alpha-0.015625_driftProb--1,-1,-1,-1_driftScale-100_enable-debug-0_epsilon-0.05_gamma-0.95_lambda-0.8_sensorLife-1,1,1,1_tiles-4_tilings-32/']\n",
    "#dataPath = ['esarsa1/adaptive-alpha=3e-06_adaptive-stepsize=1_alpha=0.1_delays=0_enable-debug=0_epsilon=0.1_gamma=0.9_is-stepsize-adaptive=1_lambda=0.7_tiles=8_tilings=32/']\n",
    "\n",
    "dataPath = ['esarsa1/adaptive-alpha=3e-06_adaptive-stepsize=1_alpha=0.1_delays=0_enable-debug=0_epsilon=0.1_gamma=0.9_is-stepsize-adaptive=1_lambda=0.7_tiles=8_tilings=32/', 'dqn4/alpha=1e-05_buffer-size=2500_buffer-type=random_decreasing-epsilon=None_delays=0_dqn-adamBeta1=0.9_dqn-adamBeta2=0.999_dqn-adamEps=1e-08_dqn-batch=64_dqn-hidden=64,64_dqn-sync=32_enable-debug=0_']\n",
    "\n",
    "basePath = '../data/'\n",
    "\n",
    "algorithms = [dataPath[i].split('/')[0] for i in range(len(dataPath))]\n",
    "    \n",
    "Data = {}\n",
    "\n",
    "from loadFromEpisodeLengths import load_data\n",
    "\n",
    "for i in range(len(dataPath)):\n",
    "    if os.path.isdir(basePath + dataPath[i]) == True:\n",
    "        Data[algorithms[i]] = load_data(basePath+dataPath[i])\n",
    "\n",
    "print('Data will be stored for', ', '.join([k for k in Data.keys()]))\n",
    "print('Loaded the episode lengths data from the csv files')"
   ]
  },
  {
   "cell_type": "markdown",
   "metadata": {},
   "source": [
    "`convert_data` converts the episode lengths (numpy array of Pandas DataFrames) into the absolute timesteps when failures occur (a python list of Pandas DataFrames)"
   ]
  },
  {
   "cell_type": "code",
   "execution_count": 40,
   "metadata": {},
   "outputs": [
    {
     "name": "stdout",
     "output_type": "stream",
     "text": [
      "Data will be stored for esarsa1, dqn4\n",
      "The stored episode lengths are converted to absolute failure timesteps\n"
     ]
    }
   ],
   "source": [
    "convertedData = {}\n",
    "\n",
    "from loadFromEpisodeLengths import convert_data\n",
    "\n",
    "for alg, data in Data.items():\n",
    "    convertedData[alg], totalTimesteps = convert_data(alg, data)\n",
    "\n",
    "print('Data will be stored for', ', '.join([k for k in convertedData.keys()]))\n",
    "print('The stored episode lengths are converted to absolute failure timesteps')"
   ]
  },
  {
   "cell_type": "markdown",
   "metadata": {},
   "source": [
    "The rewards can be transformed into the following values of transformation =\n",
    "1. 'Returns'\n",
    "2. 'Failures'\n",
    "3. 'Average-Rewards'\n",
    "4. 'Rewards' (no change)\n",
    "\n",
    "----------------------------------------------------------------------------------------------\n",
    "\n",
    "There is an additional parameter of window which can be any non-negative integer. It is used for the 'Average-Rewards' transformation to maintain a moving average over a sliding window. By default window is 0.\n",
    "\n",
    "The type parameter takes in 'sample-averaging' or 'exponential-averaging'.\n",
    "\n",
    "The parameter alpha takes in a smoothing constant value\n",
    "\n",
    "- If window is 500 and timesteps are 10000, then the first element is the average of the performances of timesteps from 1 - 500. The second element is the average of the performances of timesteps from 2 - 501. The last element is the average of the performances of timesteps from 9501 - 10000.\n",
    "\n",
    "----------------------------------------------------------------------------------------------\n",
    "\n",
    "`transform_data` transforms the absolute failure timesteps (python list of Pandas DataFrames) into the respective `transformation` (a numpy array of numpy arrays) for plotting"
   ]
  },
  {
   "cell_type": "code",
   "execution_count": 50,
   "metadata": {
    "scrolled": false
   },
   "outputs": [
    {
     "name": "stdout",
     "output_type": "stream",
     "text": [
      "0 esarsa1\n",
      "10 esarsa1\n",
      "0 dqn4\n",
      "10 dqn4\n",
      "Data will be plotted for esarsa1, dqn4\n",
      "The stored failure timesteps are transformed to:  Average-Rewards\n"
     ]
    }
   ],
   "source": [
    "plottingData = {}\n",
    "\n",
    "from loadFromEpisodeLengths import transform_data\n",
    "\n",
    "transformation = 'Average-Rewards'\n",
    "window = 2500\n",
    "alpha = 0.01\n",
    "averaging_type='exponential-averaging'\n",
    "\n",
    "for alg, data in convertedData.items():\n",
    "    plottingData[alg] = transform_data(alg, data, totalTimesteps, transformation, window, type=averaging_type, alpha=alpha)\n",
    "\n",
    "print('Data will be plotted for', ', '.join([k for k in plottingData.keys()]))\n",
    "print('The stored failure timesteps are transformed to: ', transformation)"
   ]
  },
  {
   "cell_type": "markdown",
   "metadata": {},
   "source": [
    "Here, we can plot the following statistics:\n",
    "\n",
    "1. Mean of all the runs\n",
    "\n",
    "2. Median run\n",
    "\n",
    "3. Run with the best performance (highest return, or equivalently least failures)\n",
    "\n",
    "4. Run with the worst performance (lowest return, or equivalently most failures)\n",
    "\n",
    "5. Mean along with the confidence interval (Currently, plots the mean along with 95% confidence interval, but should be changed to make it adaptive to any confidence interval)\n",
    "\n",
    "6. Mean along with percentile regions (Plots the mean and shades the region between the run with the lower percentile and the run with the upper percentile)\n",
    "\n",
    "----------------------------------------------------------------------------------------------\n",
    "\n",
    "Details:\n",
    "\n",
    "plotBest, plotWorst, plotMeanAndPercentileRegions sort the performances based on their final performance\n",
    "\n",
    "                                   ----------------------------------------------------\n",
    "\n",
    "Mean, Median, MeanAndConfidenceInterval are all symmetric plots so 'Failures' does not affect their plots\n",
    "    \n",
    "Best, Worst, MeanAndPercentileRegions are all asymmetric plots so 'Failures' affects their plots, and has to be treated in the following way:   \n",
    "\n",
    "                                   ----------------------------------------------------\n",
    "\n",
    "1. plotBest for Returns will plot the run with the highest return (least failures)\n",
    "   plotBest for Failures will plot the run with the least failures and not the highest failures\n",
    "\n",
    "2. plotWorst for Returns will plot the run with the lowest return (most failures)\n",
    "   plotWorst for Failures will plot the run with the most failures and not the least failures\n",
    "\n",
    "3. plotMeanAndPercentileRegions for Returns uses the lower variable to select the run with the 'lower' percentile and uses the upper variable to select the run with the 'upper' percentile\n",
    "   plotMeanAndPercentileRegions for Failures uses the lower variable along with some calculations to select the run with 'upper' percentile and uses the upper variable along with some calculations to select the run with the 'lower' percentile \n",
    "    \n",
    "----------------------------------------------------------------------------------------------\n",
    "\n",
    "Caution:\n",
    "- Jupyter notebooks (mostly) or matplotlib gives an error when displaying very dense plots. For example: plotting best and worst case for transformation of 'Rewards' for 'example' algorithm, or when trying to zoom into dense plots. Most of the plots for 'Rewards' and 'example' fail."
   ]
  },
  {
   "cell_type": "code",
   "execution_count": 51,
   "metadata": {},
   "outputs": [],
   "source": [
    "from stats import getMean, getMedian, getBest, getWorst, getConfidenceIntervalOfMean, getRegion\n",
    "\n",
    "# Add color, linestyles as needed\n",
    "\n",
    "def plotMean(xAxis, data, color):\n",
    "    mean = getMean(data)\n",
    "    plt.plot(xAxis, mean, label=alg+'-mean', color=color)\n",
    "\n",
    "def plotMedian(xAxis, data, color):\n",
    "    median = getMedian(data)\n",
    "    plt.plot(xAxis, median, label=alg+'-median', color=color)\n",
    "\n",
    "def plotBest(xAxis, data, transformation, color):\n",
    "    best = getBest(data, transformation)\n",
    "    plt.plot(xAxis, best, label=alg+'-best', color=color)\n",
    "\n",
    "def plotWorst(xAxis, data, transformation, color):\n",
    "    worst = getWorst(data,  transformation)\n",
    "    plt.plot(xAxis, worst, label=alg+'-worst', color=color)\n",
    "\n",
    "def plotMeanAndConfidenceInterval(xAxis, data, confidence, color):\n",
    "    plotMean(xAxis, data, color=color)\n",
    "    lowerBound, upperBound = getConfidenceIntervalOfMean(data, confidence)\n",
    "    plt.fill_between(xAxis, lowerBound, upperBound, alpha=0.25, color=color)\n",
    "\n",
    "def plotMeanAndPercentileRegions(xAxis, data, lower, upper, transformation, color):\n",
    "    plotMean(xAxis, data, color)\n",
    "    lowerRun, upperRun = getRegion(data, lower, upper, transformation)\n",
    "    plt.fill_between(xAxis, lowerRun, upperRun, alpha=0.25, color=color)"
   ]
  },
  {
   "cell_type": "markdown",
   "metadata": {},
   "source": [
    "Details:\n",
    "\n",
    "- X axis for 'Average-Rewards' will start from 'window' timesteps and end with the final timesteps\n",
    "\n",
    "- Need to add color (shades), linestyle as per requirements\n",
    "\n",
    "- Currently plot one at a time by commenting out the others otherwise, it displays different colors for all.\n"
   ]
  },
  {
   "cell_type": "code",
   "execution_count": 52,
   "metadata": {},
   "outputs": [
    {
     "data": {
      "image/png": "[encoded data removed]",
      "text/plain": [
       "<Figure size 432x288 with 1 Axes>"
      ]
     },
     "metadata": {
      "needs_background": "light"
     },
     "output_type": "display_data"
    }
   ],
   "source": [
    "# For saving figures\n",
    "%matplotlib inline\n",
    "\n",
    "# For plotting in the jupyter notebook\n",
    "#%matplotlib notebook         \n",
    "\n",
    "import matplotlib.pyplot as plt\n",
    "\n",
    "colors = plt.rcParams['axes.prop_cycle'].by_key()['color']\n",
    "\n",
    "for alg, data in plottingData.items():\n",
    "    lenRun = len(data[0][:1000000])\n",
    "    xAxis = np.array([i for i in range(1,lenRun+1)])\n",
    "    \n",
    "    if transformation == 'Average-Rewards' and type == 'sample-averaging':\n",
    "        xAxis += (window-1)\n",
    "    \n",
    "    if 'esarsa' in alg:\n",
    "        color = colors[0]\n",
    "    elif 'hand' in alg:\n",
    "        color = colors[1]\n",
    "    elif 'dqn' in alg:\n",
    "        color = colors[2]\n",
    "    \n",
    "    data = data[:,:1000000]\n",
    "    \n",
    "    plotMean(xAxis, data, color=color)\n",
    "\n",
    "    #plotMedian(xAxis, data, color=color)\n",
    "    \n",
    "    #plotBest(xAxis, data, transformation=transformation, color=color)\n",
    "    \n",
    "    #plotWorst(xAxis, data, transformation=transformation, color=color)\n",
    "    \n",
    "    #plotMeanAndConfidenceInterval(xAxis, data, confidence=0.95, color=color)\n",
    "    \n",
    "    #plotMeanAndPercentileRegions(xAxis, data, lower=0.025, upper=0.975, transformation=transformation, color=color)\n",
    "\n",
    "    \n",
    "#plt.title('Rewards averaged with sliding window of 1000 timesteps across 100 runs', pad=25, fontsize=10)\n",
    "plt.xlabel('Timesteps', labelpad=35)\n",
    "plt.ylabel(transformation, rotation=0, labelpad=45)\n",
    "plt.rcParams['figure.figsize'] = [8, 5.33]\n",
    "plt.legend(loc=0)\n",
    "plt.yticks()\n",
    "plt.xticks()\n",
    "plt.tight_layout()\n",
    "\n",
    "plt.savefig('../img/comparison-'+str(averaging_type)+'-alpha='+str(alpha)+'-'+str(transformation)+'.png',dpi=500, bbox_inches='tight')"
   ]
  }
 ],
 "metadata": {
  "kernelspec": {
   "display_name": "Python 3",
   "language": "python",
   "name": "python3"
  },
  "language_info": {
   "codemirror_mode": {
    "name": "ipython",
    "version": 3
   },
   "file_extension": ".py",
   "mimetype": "text/x-python",
   "name": "python",
   "nbconvert_exporter": "python",
   "pygments_lexer": "ipython3",
   "version": "3.8.5"
  }
 },
 "nbformat": 4,
 "nbformat_minor": 4
}
